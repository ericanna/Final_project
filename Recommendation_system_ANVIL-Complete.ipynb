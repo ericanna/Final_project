{
 "cells": [
  {
   "cell_type": "code",
   "execution_count": 1,
   "id": "6b0bd957",
   "metadata": {},
   "outputs": [],
   "source": [
    "import pandas as pd\n",
    "import numpy as np\n",
    "\n",
    "df_fiction = pd.read_csv('df3_final4.csv')"
   ]
  },
  {
   "cell_type": "code",
   "execution_count": 2,
   "id": "8fb2d9ea",
   "metadata": {},
   "outputs": [],
   "source": [
    "df_nonfiction = pd.read_csv('df2_final5.csv')"
   ]
  },
  {
   "cell_type": "code",
   "execution_count": 3,
   "id": "bdb7fd96",
   "metadata": {},
   "outputs": [
    {
     "name": "stdout",
     "output_type": "stream",
     "text": [
      "Requirement already satisfied: anvil-uplink in /Users/ericaNNa/opt/anaconda3/lib/python3.9/site-packages (0.4.2)\n",
      "Requirement already satisfied: ws4py in /Users/ericaNNa/opt/anaconda3/lib/python3.9/site-packages (from anvil-uplink) (0.5.1)\n",
      "Requirement already satisfied: future in /Users/ericaNNa/opt/anaconda3/lib/python3.9/site-packages (from anvil-uplink) (0.18.2)\n",
      "Collecting argparse\n",
      "  Using cached argparse-1.4.0-py2.py3-none-any.whl (23 kB)\n",
      "Requirement already satisfied: six in /Users/ericaNNa/opt/anaconda3/lib/python3.9/site-packages (from anvil-uplink) (1.16.0)\n",
      "Installing collected packages: argparse\n",
      "Successfully installed argparse-1.4.0\n",
      "Note: you may need to restart the kernel to use updated packages.\n"
     ]
    }
   ],
   "source": [
    "pip install anvil-uplink"
   ]
  },
  {
   "cell_type": "code",
   "execution_count": 4,
   "id": "1a63e01a",
   "metadata": {},
   "outputs": [
    {
     "name": "stdout",
     "output_type": "stream",
     "text": [
      "Connecting to wss://anvil.works/uplink\n",
      "Anvil websocket open\n",
      "Connected to \"Default Environment\" as SERVER\n"
     ]
    }
   ],
   "source": [
    "import anvil.server\n",
    "\n",
    "anvil.server.connect(\"server_VVWQCCDBVOFQ2KMGLBMPVAKW-PCU25HP5XL3JPOJR\")"
   ]
  },
  {
   "cell_type": "code",
   "execution_count": 5,
   "id": "77530f34",
   "metadata": {},
   "outputs": [],
   "source": [
    "@anvil.server.callable\n",
    "def non_fiction_rec(selected_value):\n",
    "    import pandas as pd\n",
    "    from bs4 import BeautifulSoup\n",
    "    import requests\n",
    "    df_nonfiction = pd.read_csv('df2_final5.csv')\n",
    "    genre = df_nonfiction.loc[df_nonfiction['genre_1'] == selected_value]\n",
    "    book_recommendation = genre.sample(n=1)\n",
    "    title = book_recommendation['book_title'].item()\n",
    "    author = book_recommendation['author_name'].item()\n",
    "    year = int(book_recommendation['year_publication'].item())\n",
    "    pages = book_recommendation['pages'].item()\n",
    "    url = book_recommendation['book_fullurl'].item()\n",
    "    response = requests.get(url)\n",
    "    soup = BeautifulSoup(response.content, 'html.parser')\n",
    "    img_data = soup.select(\".BookPage__bookCover .ResponsiveImage\")[0][\"src\"]\n",
    "    sinopse_data = soup.select(\".DetailsLayoutRightParagraph .Formatted\")[0]\n",
    "    sinopse_data = sinopse_data.text\n",
    "    return title, author, year, pages, img_data, sinopse_data"
   ]
  },
  {
   "cell_type": "code",
   "execution_count": 6,
   "id": "d30fa284",
   "metadata": {},
   "outputs": [],
   "source": [
    "@anvil.server.callable\n",
    "def fiction1_rec(selected_value):\n",
    "    import pandas as pd\n",
    "    from bs4 import BeautifulSoup\n",
    "    import requests\n",
    "    df_fiction = pd.read_csv('df3_final4.csv')\n",
    "    genre = df_fiction.loc[df_fiction['genre_1'] == selected_value]\n",
    "    book_recommendation = genre.sample(n=1)\n",
    "    title = book_recommendation['book_title'].item()\n",
    "    author = book_recommendation['author_name'].item()\n",
    "    year = int(book_recommendation['year_publication'].item())\n",
    "    pages = book_recommendation['pages'].item()\n",
    "    url = book_recommendation['book_fullurl'].item()\n",
    "    response = requests.get(url)\n",
    "    soup = BeautifulSoup(response.content, 'html.parser')\n",
    "    img_data = soup.select(\".ResponsiveImage\")[0][\"src\"]\n",
    "    sinopse_data = soup.select(\".DetailsLayoutRightParagraph .Formatted\")[0]\n",
    "    sinopse_data = sinopse_data.text\n",
    "    return title, author, year, pages, img_data, sinopse_data"
   ]
  },
  {
   "cell_type": "code",
   "execution_count": 7,
   "id": "9b570567",
   "metadata": {},
   "outputs": [],
   "source": [
    "@anvil.server.callable\n",
    "def fiction2_rec(selected_value1, selected_value2):\n",
    "    import pandas as pd\n",
    "    from bs4 import BeautifulSoup\n",
    "    import requests\n",
    "    df_fiction = pd.read_csv('df3_final4.csv')\n",
    "    genre = df_fiction.loc[df_fiction['genre_1'] == selected_value1]\n",
    "    birthplace = genre.loc[genre['birthplace'] == selected_value2]\n",
    "    book_recommendation = birthplace.sample(n=1)\n",
    "    title = book_recommendation['book_title'].item()\n",
    "    author = book_recommendation['author_name'].item()\n",
    "    year = int(book_recommendation['year_publication'].item())\n",
    "    pages = book_recommendation['pages'].item()\n",
    "    url = book_recommendation['book_fullurl'].item()\n",
    "    response = requests.get(url)\n",
    "    soup = BeautifulSoup(response.content, 'html.parser')\n",
    "    img_data = soup.select(\".ResponsiveImage\")[0][\"src\"]\n",
    "    sinopse_data = soup.select(\".DetailsLayoutRightParagraph .Formatted\")[0]\n",
    "    sinopse_data = sinopse_data.text\n",
    "    return title, author, year, pages, img_data, sinopse_data"
   ]
  },
  {
   "cell_type": "code",
   "execution_count": 8,
   "id": "4504cc1e",
   "metadata": {},
   "outputs": [],
   "source": [
    "@anvil.server.callable\n",
    "def fiction3_rec(selected_value1, selected_value2):\n",
    "    import pandas as pd\n",
    "    from bs4 import BeautifulSoup\n",
    "    import requests\n",
    "    df_fiction = pd.read_csv('df3_final4.csv')\n",
    "    genre = df_fiction.loc[df_fiction['genre_1'] == selected_value1]\n",
    "    period = genre.loc[genre['period_publication'] == selected_value2]\n",
    "    book_recommendation = period.sample(n=1)\n",
    "    title = book_recommendation['book_title'].item()\n",
    "    author = book_recommendation['author_name'].item()\n",
    "    year = int(book_recommendation['year_publication'].item())\n",
    "    pages = book_recommendation['pages'].item()\n",
    "    url = book_recommendation['book_fullurl'].item()\n",
    "    response = requests.get(url)\n",
    "    soup = BeautifulSoup(response.content, 'html.parser')\n",
    "    img_data = soup.select(\".ResponsiveImage\")[0][\"src\"]\n",
    "    sinopse_data = soup.select(\".DetailsLayoutRightParagraph .Formatted\")[0]\n",
    "    sinopse_data = sinopse_data.text\n",
    "    return title, author, year, pages, img_data, sinopse_data"
   ]
  },
  {
   "cell_type": "code",
   "execution_count": null,
   "id": "201cf0a2",
   "metadata": {},
   "outputs": [],
   "source": []
  },
  {
   "cell_type": "code",
   "execution_count": null,
   "id": "1ff53f37",
   "metadata": {},
   "outputs": [],
   "source": []
  },
  {
   "cell_type": "code",
   "execution_count": null,
   "id": "fbe3442a",
   "metadata": {},
   "outputs": [],
   "source": []
  }
 ],
 "metadata": {
  "kernelspec": {
   "display_name": "Python 3 (ipykernel)",
   "language": "python",
   "name": "python3"
  },
  "language_info": {
   "codemirror_mode": {
    "name": "ipython",
    "version": 3
   },
   "file_extension": ".py",
   "mimetype": "text/x-python",
   "name": "python",
   "nbconvert_exporter": "python",
   "pygments_lexer": "ipython3",
   "version": "3.9.13"
  }
 },
 "nbformat": 4,
 "nbformat_minor": 5
}

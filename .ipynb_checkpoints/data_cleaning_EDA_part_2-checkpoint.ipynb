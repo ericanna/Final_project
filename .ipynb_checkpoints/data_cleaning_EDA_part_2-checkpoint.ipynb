{
 "cells": [
  {
   "cell_type": "code",
   "execution_count": 15,
   "id": "6502edd4",
   "metadata": {},
   "outputs": [],
   "source": [
    "import pandas as pd\n",
    "import numpy as np"
   ]
  },
  {
   "cell_type": "code",
   "execution_count": 16,
   "id": "1f525a7a",
   "metadata": {},
   "outputs": [
    {
     "name": "stdout",
     "output_type": "stream",
     "text": [
      "<class 'pandas.core.frame.DataFrame'>\n",
      "RangeIndex: 10690 entries, 0 to 10689\n",
      "Data columns (total 20 columns):\n",
      " #   Column                 Non-Null Count  Dtype  \n",
      "---  ------                 --------------  -----  \n",
      " 0   author_average_rating  10690 non-null  float64\n",
      " 1   author_gender          10690 non-null  object \n",
      " 2   author_genres          10690 non-null  object \n",
      " 3   author_id              10690 non-null  int64  \n",
      " 4   author_name            10690 non-null  object \n",
      " 5   author_page_url        10690 non-null  object \n",
      " 6   author_rating_count    10690 non-null  int64  \n",
      " 7   author_review_count    10690 non-null  int64  \n",
      " 8   birthplace             10690 non-null  object \n",
      " 9   book_average_rating    10690 non-null  float64\n",
      " 10  book_fullurl           10690 non-null  object \n",
      " 11  book_id                10690 non-null  object \n",
      " 12  book_title             10690 non-null  object \n",
      " 13  genre_1                10690 non-null  object \n",
      " 14  genre_2                10690 non-null  object \n",
      " 15  num_ratings            10690 non-null  int64  \n",
      " 16  num_reviews            10690 non-null  int64  \n",
      " 17  pages                  10690 non-null  int64  \n",
      " 18  publish_date           10581 non-null  object \n",
      " 19  score                  10690 non-null  int64  \n",
      "dtypes: float64(2), int64(7), object(11)\n",
      "memory usage: 1.6+ MB\n"
     ]
    }
   ],
   "source": [
    "df = pd.read_csv(\"dataset.csv\")\n",
    "df.info()"
   ]
  },
  {
   "cell_type": "code",
   "execution_count": 17,
   "id": "7f6b98a9",
   "metadata": {},
   "outputs": [],
   "source": [
    "df.drop(columns = [\"author_gender\", \"author_average_rating\", \"author_genres\", \"author_rating_count\", \"author_review_count\", \"num_ratings\", \"num_reviews\", \"score\"], inplace=True)"
   ]
  },
  {
   "cell_type": "code",
   "execution_count": 22,
   "id": "400fee49",
   "metadata": {},
   "outputs": [
    {
     "name": "stdout",
     "output_type": "stream",
     "text": [
      "<class 'pandas.core.frame.DataFrame'>\n",
      "Int64Index: 7700 entries, 0 to 10128\n",
      "Data columns (total 12 columns):\n",
      " #   Column               Non-Null Count  Dtype  \n",
      "---  ------               --------------  -----  \n",
      " 0   author_id            7700 non-null   int64  \n",
      " 1   author_name          7700 non-null   object \n",
      " 2   author_page_url      7700 non-null   object \n",
      " 3   birthplace           7700 non-null   object \n",
      " 4   book_average_rating  7700 non-null   float64\n",
      " 5   book_fullurl         7700 non-null   object \n",
      " 6   book_id              7700 non-null   object \n",
      " 7   book_title           7700 non-null   object \n",
      " 8   genre_1              7700 non-null   object \n",
      " 9   genre_2              7700 non-null   object \n",
      " 10  pages                7700 non-null   int64  \n",
      " 11  publish_date         7608 non-null   object \n",
      "dtypes: float64(1), int64(2), object(9)\n",
      "memory usage: 782.0+ KB\n"
     ]
    }
   ],
   "source": [
    "df = df[df['book_average_rating'] >= 3.5]  # removing books with average rating less than 3.5 to keep a certain quality in the recomendations\n",
    "df.info()"
   ]
  },
  {
   "cell_type": "code",
   "execution_count": 23,
   "id": "fb846780",
   "metadata": {},
   "outputs": [
    {
     "name": "stdout",
     "output_type": "stream",
     "text": [
      "<class 'pandas.core.frame.DataFrame'>\n",
      "Int64Index: 7700 entries, 0 to 10128\n",
      "Data columns (total 12 columns):\n",
      " #   Column               Non-Null Count  Dtype  \n",
      "---  ------               --------------  -----  \n",
      " 0   author_id            7700 non-null   int64  \n",
      " 1   author_name          7700 non-null   object \n",
      " 2   author_page_url      7700 non-null   object \n",
      " 3   birthplace           7700 non-null   object \n",
      " 4   book_average_rating  7700 non-null   float64\n",
      " 5   book_fullurl         7700 non-null   object \n",
      " 6   book_id              7700 non-null   object \n",
      " 7   book_title           7700 non-null   object \n",
      " 8   genre_1              7700 non-null   object \n",
      " 9   genre_2              7700 non-null   object \n",
      " 10  pages                7700 non-null   int64  \n",
      " 11  publish_date         7608 non-null   object \n",
      "dtypes: float64(1), int64(2), object(9)\n",
      "memory usage: 782.0+ KB\n"
     ]
    }
   ],
   "source": [
    "df.drop_duplicates(inplace=True)\n",
    "df.info()"
   ]
  },
  {
   "cell_type": "code",
   "execution_count": 28,
   "id": "771f9bbf",
   "metadata": {},
   "outputs": [
    {
     "data": {
      "text/html": [
       "<div>\n",
       "<style scoped>\n",
       "    .dataframe tbody tr th:only-of-type {\n",
       "        vertical-align: middle;\n",
       "    }\n",
       "\n",
       "    .dataframe tbody tr th {\n",
       "        vertical-align: top;\n",
       "    }\n",
       "\n",
       "    .dataframe thead th {\n",
       "        text-align: right;\n",
       "    }\n",
       "</style>\n",
       "<table border=\"1\" class=\"dataframe\">\n",
       "  <thead>\n",
       "    <tr style=\"text-align: right;\">\n",
       "      <th></th>\n",
       "      <th>author_id</th>\n",
       "      <th>author_name</th>\n",
       "      <th>author_page_url</th>\n",
       "      <th>birthplace</th>\n",
       "      <th>book_average_rating</th>\n",
       "      <th>book_fullurl</th>\n",
       "      <th>book_id</th>\n",
       "      <th>book_title</th>\n",
       "      <th>genre_1</th>\n",
       "      <th>genre_2</th>\n",
       "      <th>pages</th>\n",
       "      <th>publish_date</th>\n",
       "    </tr>\n",
       "  </thead>\n",
       "  <tbody>\n",
       "    <tr>\n",
       "      <th>0</th>\n",
       "      <td>74489</td>\n",
       "      <td>Victoria Thompson</td>\n",
       "      <td>/author/show/74489.Victoria_Thompson</td>\n",
       "      <td>USA and Canada</td>\n",
       "      <td>4.02</td>\n",
       "      <td>https://www.goodreads.com/book/show/686717.Mur...</td>\n",
       "      <td>686717</td>\n",
       "      <td>Murder on St. Mark's Place</td>\n",
       "      <td>Mystery</td>\n",
       "      <td>Historical</td>\n",
       "      <td>277</td>\n",
       "      <td>2000</td>\n",
       "    </tr>\n",
       "    <tr>\n",
       "      <th>1</th>\n",
       "      <td>5618190</td>\n",
       "      <td>Mimi Jean Pamfiloff</td>\n",
       "      <td>/author/show/5618190.Mimi_Jean_Pamfiloff</td>\n",
       "      <td>USA and Canada</td>\n",
       "      <td>3.99</td>\n",
       "      <td>https://www.goodreads.com/book/show/27833684-t...</td>\n",
       "      <td>27833684</td>\n",
       "      <td>Tailored for Trouble</td>\n",
       "      <td>Romance</td>\n",
       "      <td>Contemporary</td>\n",
       "      <td>354</td>\n",
       "      <td>2016</td>\n",
       "    </tr>\n",
       "    <tr>\n",
       "      <th>2</th>\n",
       "      <td>36122</td>\n",
       "      <td>Patricia C. Wrede</td>\n",
       "      <td>/author/show/36122.Patricia_C_Wrede</td>\n",
       "      <td>USA and Canada</td>\n",
       "      <td>4.01</td>\n",
       "      <td>https://www.goodreads.com/book/show/64207.Sorc...</td>\n",
       "      <td>64207</td>\n",
       "      <td>Sorcery &amp; Cecelia: or The Enchanted Cho...</td>\n",
       "      <td>Fantasy</td>\n",
       "      <td>Young Adult</td>\n",
       "      <td>326</td>\n",
       "      <td>April 15th 1988</td>\n",
       "    </tr>\n",
       "    <tr>\n",
       "      <th>3</th>\n",
       "      <td>4833990</td>\n",
       "      <td>Jillian Dodd</td>\n",
       "      <td>/author/show/4833990.Jillian_Dodd</td>\n",
       "      <td>Unknown</td>\n",
       "      <td>3.95</td>\n",
       "      <td>https://www.goodreads.com/book/show/34804503-s...</td>\n",
       "      <td>34804503</td>\n",
       "      <td>Stalk Me</td>\n",
       "      <td>Young Adult</td>\n",
       "      <td>Romance</td>\n",
       "      <td>327</td>\n",
       "      <td>August 20th 2012</td>\n",
       "    </tr>\n",
       "    <tr>\n",
       "      <th>4</th>\n",
       "      <td>7956</td>\n",
       "      <td>Mary Roach</td>\n",
       "      <td>/author/show/7956.Mary_Roach</td>\n",
       "      <td>USA and Canada</td>\n",
       "      <td>3.84</td>\n",
       "      <td>https://www.goodreads.com/book/show/5981308-bonk</td>\n",
       "      <td>5981308</td>\n",
       "      <td>Bonk: The Curious Coupling of Science a...</td>\n",
       "      <td>Nonfiction</td>\n",
       "      <td>Science</td>\n",
       "      <td>319</td>\n",
       "      <td>2008</td>\n",
       "    </tr>\n",
       "  </tbody>\n",
       "</table>\n",
       "</div>"
      ],
      "text/plain": [
       "   author_id           author_name                           author_page_url  \\\n",
       "0      74489    Victoria Thompson       /author/show/74489.Victoria_Thompson   \n",
       "1    5618190  Mimi Jean Pamfiloff   /author/show/5618190.Mimi_Jean_Pamfiloff   \n",
       "2      36122    Patricia C. Wrede        /author/show/36122.Patricia_C_Wrede   \n",
       "3    4833990         Jillian Dodd          /author/show/4833990.Jillian_Dodd   \n",
       "4       7956           Mary Roach               /author/show/7956.Mary_Roach   \n",
       "\n",
       "       birthplace  book_average_rating  \\\n",
       "0  USA and Canada                 4.02   \n",
       "1  USA and Canada                 3.99   \n",
       "2  USA and Canada                 4.01   \n",
       "3         Unknown                 3.95   \n",
       "4  USA and Canada                 3.84   \n",
       "\n",
       "                                        book_fullurl   book_id  \\\n",
       "0  https://www.goodreads.com/book/show/686717.Mur...    686717   \n",
       "1  https://www.goodreads.com/book/show/27833684-t...  27833684   \n",
       "2  https://www.goodreads.com/book/show/64207.Sorc...     64207   \n",
       "3  https://www.goodreads.com/book/show/34804503-s...  34804503   \n",
       "4   https://www.goodreads.com/book/show/5981308-bonk   5981308   \n",
       "\n",
       "                                          book_title      genre_1  \\\n",
       "0                        Murder on St. Mark's Place       Mystery   \n",
       "1                              Tailored for Trouble       Romance   \n",
       "2         Sorcery & Cecelia: or The Enchanted Cho...      Fantasy   \n",
       "3                                          Stalk Me   Young Adult   \n",
       "4         Bonk: The Curious Coupling of Science a...   Nonfiction   \n",
       "\n",
       "        genre_2  pages      publish_date  \n",
       "0    Historical    277              2000  \n",
       "1  Contemporary    354              2016  \n",
       "2   Young Adult    326   April 15th 1988  \n",
       "3       Romance    327  August 20th 2012  \n",
       "4       Science    319              2008  "
      ]
     },
     "execution_count": 28,
     "metadata": {},
     "output_type": "execute_result"
    }
   ],
   "source": [
    "df.reset_index(drop=True)\n",
    "df.head()"
   ]
  },
  {
   "cell_type": "code",
   "execution_count": 29,
   "id": "91995344",
   "metadata": {},
   "outputs": [
    {
     "data": {
      "text/plain": [
       "array(['2000', '2016', '1988', '2012', '2008', '1993', '2007', '2006',\n",
       "       '2010', '2014', '2013', '1987', '2011', '1974', '2002', '1957',\n",
       "       '1992', '2003', '2009', '1997', '1938', '1813', '1868', '1943',\n",
       "       '1963', '1989', '2001', '2005', '2004', nan, '1936', '2015',\n",
       "       '1995', '1980', '1978', '1994', '1998', 'by', '1981', '1982',\n",
       "       '1970', '1905', '1976', '1983', '1977', '1986', '1962', '2018',\n",
       "       '1999', '2017', '1967', '1918', '1937', '1818', '1847', '1947',\n",
       "       '1960', '1961', '1990', '1996', '1949', '1935', '1985', '1944',\n",
       "       '1954', '1945', '1908', '1973', '1972', '1971', '1877', '1959',\n",
       "       '1948', '1991', '1922', '29th', '2nd', '7th', '5th', '4th', '30th',\n",
       "       '10th', '2019', '1984', '1927', '1931', '1934', '1975', '1923',\n",
       "       '1930', '1955', '1942', '1902', '1920', '1855', '1952', '1964',\n",
       "       '1880', '1892', '3rd', '26th', '1871', '1968', '1932', '1979',\n",
       "       '1830', '1899', '1848', '1925', '1792', '1969', '1953', '1940',\n",
       "       '1950', '1956', '1911', '1965', '1929', '1966', '1915', '1894',\n",
       "       '1008', '1939', '1958', '1862', '1797', '1307', '1861', '1900',\n",
       "       '1951', '1811', '-600', '1917', '1850', '1890', '12th', '25th',\n",
       "       '19th', '1st', '1926', '9th', '1928', '1893', '1817', '1853',\n",
       "       '1924', '1913', '1901', '1921', '1933', '1903', '1906', '11th',\n",
       "       '1879', '1946', '1393', '1898', '1778', '1912', '1916', '23rd',\n",
       "       '27th', '18th', '6th', '28th', '1801', '21st', '14th', '1897',\n",
       "       '1865', '1941', 'd 17'], dtype=object)"
      ]
     },
     "execution_count": 29,
     "metadata": {},
     "output_type": "execute_result"
    }
   ],
   "source": [
    "df['year_publication'] = df['publish_date'].str[-4:] # Getting only the year of publication\n",
    "df['year_publication'].unique()"
   ]
  },
  {
   "cell_type": "code",
   "execution_count": 37,
   "id": "a37457c6",
   "metadata": {},
   "outputs": [],
   "source": [
    "# I checked in Goodreads that the publication dates with only days belong to books released in 2019. Probably an error in the API that affected the data gathering.\n",
    "\n",
    "def cleaning_date(i):\n",
    "    if i in ['29th', '2nd', '7th', '5th', '4th', '30th','10th', '26th', '9th', '11th', '23rd',\n",
    "       '27th', '18th', '6th', '28th', '21st', '14th']:\n",
    "        return '2019'\n",
    "    elif i == 'by': # these books don't have publication dates on the dataset, so these are null\n",
    "        return 0\n",
    "    else:\n",
    "        return i"
   ]
  },
  {
   "cell_type": "code",
   "execution_count": 38,
   "id": "f3bc187a",
   "metadata": {},
   "outputs": [
    {
     "data": {
      "text/plain": [
       "array(['2000', '2016', '1988', '2012', '2008', '1993', '2007', '2006',\n",
       "       '2010', '2014', '2013', '1987', '2011', '1974', '2002', '1957',\n",
       "       '1992', '2003', '2009', '1997', '1938', '1813', '1868', '1943',\n",
       "       '1963', '1989', '2001', '2005', '2004', nan, '1936', '2015',\n",
       "       '1995', '1980', '1978', '1994', '1998', 0, '1981', '1982', '1970',\n",
       "       '1905', '1976', '1983', '1977', '1986', '1962', '2018', '1999',\n",
       "       '2017', '1967', '1918', '1937', '1818', '1847', '1947', '1960',\n",
       "       '1961', '1990', '1996', '1949', '1935', '1985', '1944', '1954',\n",
       "       '1945', '1908', '1973', '1972', '1971', '1877', '1959', '1948',\n",
       "       '1991', '1922', '2019', '1984', '1927', '1931', '1934', '1975',\n",
       "       '1923', '1930', '1955', '1942', '1902', '1920', '1855', '1952',\n",
       "       '1964', '1880', '1892', '3rd', '1871', '1968', '1932', '1979',\n",
       "       '1830', '1899', '1848', '1925', '1792', '1969', '1953', '1940',\n",
       "       '1950', '1956', '1911', '1965', '1929', '1966', '1915', '1894',\n",
       "       '1008', '1939', '1958', '1862', '1797', '1307', '1861', '1900',\n",
       "       '1951', '1811', '-600', '1917', '1850', '1890', '12th', '25th',\n",
       "       '19th', '1st', '1926', '1928', '1893', '1817', '1853', '1924',\n",
       "       '1913', '1901', '1921', '1933', '1903', '1906', '1879', '1946',\n",
       "       '1393', '1898', '1778', '1912', '1916', '1801', '1897', '1865',\n",
       "       '1941', 'd 17'], dtype=object)"
      ]
     },
     "execution_count": 38,
     "metadata": {},
     "output_type": "execute_result"
    }
   ],
   "source": [
    "df['year_publication'] = list(map(cleaning_date, df['year_publication']))\n",
    "df['year_publication'].unique()"
   ]
  },
  {
   "cell_type": "code",
   "execution_count": 40,
   "id": "0e1e7a44",
   "metadata": {},
   "outputs": [],
   "source": [
    "df.loc[df['year_publication'] == 'd 17', 'year_publication'] = '2014' # checked the right date on Goodreads"
   ]
  },
  {
   "cell_type": "code",
   "execution_count": 41,
   "id": "ca9e802a",
   "metadata": {},
   "outputs": [
    {
     "data": {
      "text/plain": [
       "array(['2000', '2016', '1988', '2012', '2008', '1993', '2007', '2006',\n",
       "       '2010', '2014', '2013', '1987', '2011', '1974', '2002', '1957',\n",
       "       '1992', '2003', '2009', '1997', '1938', '1813', '1868', '1943',\n",
       "       '1963', '1989', '2001', '2005', '2004', nan, '1936', '2015',\n",
       "       '1995', '1980', '1978', '1994', '1998', 0, '1981', '1982', '1970',\n",
       "       '1905', '1976', '1983', '1977', '1986', '1962', '2018', '1999',\n",
       "       '2017', '1967', '1918', '1937', '1818', '1847', '1947', '1960',\n",
       "       '1961', '1990', '1996', '1949', '1935', '1985', '1944', '1954',\n",
       "       '1945', '1908', '1973', '1972', '1971', '1877', '1959', '1948',\n",
       "       '1991', '1922', '2019', '1984', '1927', '1931', '1934', '1975',\n",
       "       '1923', '1930', '1955', '1942', '1902', '1920', '1855', '1952',\n",
       "       '1964', '1880', '1892', '3rd', '1871', '1968', '1932', '1979',\n",
       "       '1830', '1899', '1848', '1925', '1792', '1969', '1953', '1940',\n",
       "       '1950', '1956', '1911', '1965', '1929', '1966', '1915', '1894',\n",
       "       '1008', '1939', '1958', '1862', '1797', '1307', '1861', '1900',\n",
       "       '1951', '1811', '-600', '1917', '1850', '1890', '12th', '25th',\n",
       "       '19th', '1st', '1926', '1928', '1893', '1817', '1853', '1924',\n",
       "       '1913', '1901', '1921', '1933', '1903', '1906', '1879', '1946',\n",
       "       '1393', '1898', '1778', '1912', '1916', '1801', '1897', '1865',\n",
       "       '1941'], dtype=object)"
      ]
     },
     "execution_count": 41,
     "metadata": {},
     "output_type": "execute_result"
    }
   ],
   "source": [
    "df['year_publication'].unique()"
   ]
  },
  {
   "cell_type": "code",
   "execution_count": 42,
   "id": "07b58381",
   "metadata": {},
   "outputs": [],
   "source": [
    "df.to_csv(\"dataset_clean.csv\", index = False)"
   ]
  },
  {
   "cell_type": "code",
   "execution_count": null,
   "id": "86ed6506",
   "metadata": {},
   "outputs": [],
   "source": []
  }
 ],
 "metadata": {
  "kernelspec": {
   "display_name": "Python 3 (ipykernel)",
   "language": "python",
   "name": "python3"
  },
  "language_info": {
   "codemirror_mode": {
    "name": "ipython",
    "version": 3
   },
   "file_extension": ".py",
   "mimetype": "text/x-python",
   "name": "python",
   "nbconvert_exporter": "python",
   "pygments_lexer": "ipython3",
   "version": "3.9.13"
  }
 },
 "nbformat": 4,
 "nbformat_minor": 5
}

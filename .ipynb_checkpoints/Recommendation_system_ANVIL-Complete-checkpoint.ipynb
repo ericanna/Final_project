{
 "cells": [
  {
   "cell_type": "code",
   "execution_count": 1,
   "id": "6b0bd957",
   "metadata": {},
   "outputs": [],
   "source": [
    "import pandas as pd\n",
    "import numpy as np\n",
    "\n",
    "df_fiction = pd.read_csv('df3_final4.csv')"
   ]
  },
  {
   "cell_type": "code",
   "execution_count": 2,
   "id": "8fb2d9ea",
   "metadata": {},
   "outputs": [],
   "source": [
    "df_nonfiction = pd.read_csv('df2_final5.csv')"
   ]
  },
  {
   "cell_type": "code",
   "execution_count": 11,
   "id": "bdb7fd96",
   "metadata": {},
   "outputs": [
    {
     "name": "stdout",
     "output_type": "stream",
     "text": [
      "Collecting anvil-uplink\n",
      "  Downloading anvil_uplink-0.4.2-py2.py3-none-any.whl (90 kB)\n",
      "\u001b[2K     \u001b[38;2;114;156;31m━━━━━━━━━━━━━━━━━━━━━━━━━━━━━━━━━━━━━━━━\u001b[0m \u001b[32m90.1/90.1 kB\u001b[0m \u001b[31m2.9 MB/s\u001b[0m eta \u001b[36m0:00:00\u001b[0m\n",
      "\u001b[?25hRequirement already satisfied: future in /Users/ericaNNa/opt/anaconda3/lib/python3.9/site-packages (from anvil-uplink) (0.18.2)\n",
      "Requirement already satisfied: six in /Users/ericaNNa/opt/anaconda3/lib/python3.9/site-packages (from anvil-uplink) (1.16.0)\n",
      "Collecting argparse\n",
      "  Downloading argparse-1.4.0-py2.py3-none-any.whl (23 kB)\n",
      "Collecting ws4py\n",
      "  Downloading ws4py-0.5.1.tar.gz (51 kB)\n",
      "\u001b[2K     \u001b[38;2;114;156;31m━━━━━━━━━━━━━━━━━━━━━━━━━━━━━━━━━━━━━━━━\u001b[0m \u001b[32m51.4/51.4 kB\u001b[0m \u001b[31m4.8 MB/s\u001b[0m eta \u001b[36m0:00:00\u001b[0m\n",
      "\u001b[?25h  Preparing metadata (setup.py) ... \u001b[?25ldone\n",
      "\u001b[?25hBuilding wheels for collected packages: ws4py\n",
      "  Building wheel for ws4py (setup.py) ... \u001b[?25ldone\n",
      "\u001b[?25h  Created wheel for ws4py: filename=ws4py-0.5.1-py3-none-any.whl size=45228 sha256=5c54b2674313316fc72c18cc55cb1ef4798d4aabfbb9f14e4766bd84c55f2b66\n",
      "  Stored in directory: /Users/ericaNNa/Library/Caches/pip/wheels/e8/9d/fd/0a594a1bc8d493935d319ac40d64d79f5b4117ef4d37b1b678\n",
      "Successfully built ws4py\n",
      "Installing collected packages: ws4py, argparse, anvil-uplink\n",
      "Successfully installed anvil-uplink-0.4.2 argparse-1.4.0 ws4py-0.5.1\n",
      "Note: you may need to restart the kernel to use updated packages.\n"
     ]
    }
   ],
   "source": [
    "pip install anvil-uplink"
   ]
  },
  {
   "cell_type": "code",
   "execution_count": 2,
   "id": "1a63e01a",
   "metadata": {},
   "outputs": [
    {
     "name": "stdout",
     "output_type": "stream",
     "text": [
      "Connecting to wss://anvil.works/uplink\n",
      "Anvil websocket open\n",
      "Connected to \"Default Environment\" as SERVER\n"
     ]
    }
   ],
   "source": [
    "import anvil.server\n",
    "\n",
    "anvil.server.connect(\"server_TQCC5U7WQBRQVR5UKWUUWEB7-PCU25HP5XL3JPOJR\")"
   ]
  },
  {
   "cell_type": "code",
   "execution_count": 6,
   "id": "77530f34",
   "metadata": {},
   "outputs": [],
   "source": [
    "@anvil.server.callable\n",
    "def non_fiction_rec(selected_value):\n",
    "    import pandas as pd\n",
    "    from bs4 import BeautifulSoup\n",
    "    import requests\n",
    "    df_nonfiction = pd.read_csv('df2_final5.csv')\n",
    "    genre = df_nonfiction.loc[df_nonfiction['genre_1'] == selected_value]\n",
    "    book_recommendation = genre.sample(n=1)\n",
    "    title = book_recommendation['book_title'].item()\n",
    "    author = book_recommendation['author_name'].item()\n",
    "    year = int(book_recommendation['year_publication'].item())\n",
    "    pages = date = book_recommendation['pages'].item()\n",
    "    url = book_recommendation['book_fullurl'].item()\n",
    "    response = requests.get(url)\n",
    "    soup = BeautifulSoup(response.content, 'html.parser')\n",
    "    img_data = requests.get('div.BookPage__bookCover').content\n",
    "    return title, author, year, pages, url, img_data\n",
    " "
   ]
  },
  {
   "cell_type": "code",
   "execution_count": 12,
   "id": "d30fa284",
   "metadata": {},
   "outputs": [],
   "source": [
    "@anvil.server.callable\n",
    "def fiction1_rec(selected_value):\n",
    "    import pandas as pd\n",
    "    df_fiction = pd.read_csv('df3_final4.csv')\n",
    "    genre = df_fiction.loc[df_fiction['genre_1'] == selected_value]\n",
    "    book_recommendation = genre.sample(n=1)\n",
    "    title = book_recommendation['book_title'].item()\n",
    "    author = book_recommendation['author_name'].item()\n",
    "    year = int(book_recommendation['year_publication'].item())\n",
    "    pages = date = book_recommendation['pages'].item()\n",
    "    return title, author, year, pages"
   ]
  },
  {
   "cell_type": "code",
   "execution_count": 13,
   "id": "9b570567",
   "metadata": {},
   "outputs": [],
   "source": [
    "@anvil.server.callable\n",
    "def fiction2_rec(selected_value1, selected_value2):\n",
    "    import pandas as pd\n",
    "    df_fiction = pd.read_csv('df3_final4.csv')\n",
    "    genre = df_fiction.loc[df_fiction['genre_1'] == selected_value1]\n",
    "    birthplace = genre.loc[genre['birthplace'] == selected_value2]\n",
    "    book_recommendation = birthplace.sample(n=1)\n",
    "    title = book_recommendation['book_title'].item()\n",
    "    author = book_recommendation['author_name'].item()\n",
    "    year = int(book_recommendation['year_publication'].item())\n",
    "    pages = date = book_recommendation['pages'].item()\n",
    "    return title, author, year, pages"
   ]
  },
  {
   "cell_type": "code",
   "execution_count": 15,
   "id": "4504cc1e",
   "metadata": {},
   "outputs": [],
   "source": [
    "@anvil.server.callable\n",
    "def fiction3_rec(selected_value1, selected_value2):\n",
    "    import pandas as pd\n",
    "    df_fiction = pd.read_csv('df3_final4.csv')\n",
    "    genre = df_fiction.loc[df_fiction['genre_1'] == selected_value1]\n",
    "    period = genre.loc[genre['period_publication'] == selected_value2]\n",
    "    book_recommendation = period.sample(n=1)\n",
    "    title = book_recommendation['book_title'].item()\n",
    "    author = book_recommendation['author_name'].item()\n",
    "    year = int(book_recommendation['year_publication'].item())\n",
    "    pages = date = book_recommendation['pages'].item()\n",
    "    return title, author, year, pages"
   ]
  },
  {
   "cell_type": "code",
   "execution_count": null,
   "id": "201cf0a2",
   "metadata": {},
   "outputs": [],
   "source": []
  }
 ],
 "metadata": {
  "kernelspec": {
   "display_name": "Python 3 (ipykernel)",
   "language": "python",
   "name": "python3"
  },
  "language_info": {
   "codemirror_mode": {
    "name": "ipython",
    "version": 3
   },
   "file_extension": ".py",
   "mimetype": "text/x-python",
   "name": "python",
   "nbconvert_exporter": "python",
   "pygments_lexer": "ipython3",
   "version": "3.9.13"
  }
 },
 "nbformat": 4,
 "nbformat_minor": 5
}

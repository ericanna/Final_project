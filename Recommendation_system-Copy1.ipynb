{
 "cells": [
  {
   "cell_type": "code",
   "execution_count": 1,
   "id": "6b0bd957",
   "metadata": {},
   "outputs": [],
   "source": [
    "import pandas as pd\n",
    "import numpy as np\n",
    "\n",
    "df_fiction = pd.read_csv('df3_final4.csv')"
   ]
  },
  {
   "cell_type": "code",
   "execution_count": 2,
   "id": "8fb2d9ea",
   "metadata": {},
   "outputs": [],
   "source": [
    "df_nonfiction = pd.read_csv('df2_final5.csv')"
   ]
  },
  {
   "cell_type": "code",
   "execution_count": 3,
   "id": "0dbf8a83",
   "metadata": {},
   "outputs": [],
   "source": [
    "def fiction_nonfiction():\n",
    "    input1 = input(\"\"\"Do you want to read a fictional or a nonfictional book?\n",
    "Type 'f' for fictional or 'nf' for nonfictional. \n",
    "\n",
    "\"\"\")\n",
    "    if input1.lower() != 'f' and input1 != 'nf':\n",
    "        input1 = input(\"\"\"Please, type 'f' for fictional or 'nf' for nonfictional books.\n",
    "        \n",
    "                       \"\"\")\n",
    "    else:\n",
    "        return input1"
   ]
  },
  {
   "cell_type": "code",
   "execution_count": 4,
   "id": "e3a08cd3",
   "metadata": {},
   "outputs": [],
   "source": [
    "def non_fiction():\n",
    "    input2 = input(\"\"\" Which type of nonfictional book do you want to read? Type:\n",
    "    \n",
    "    1 for Animals,\n",
    "    2 for Biography & Autobiography,\n",
    "    3 for Feminism,\n",
    "    4 for Food & Drinks,\n",
    "    5 for History,\n",
    "    6 for Religion & Spirituality,\n",
    "    7 for Science,\n",
    "    8 for Self Help,\n",
    "    9 for Travel or\n",
    "    10 for Writing.   \n",
    "    \n",
    "    \"\"\")\n",
    "    \n",
    "    if int(input2) not in [1, 2, 3, 4, 5, 6, 7, 8, 9, 10]:\n",
    "        input2 = input(\"\"\" Please, type:\n",
    "    \n",
    "    1 for Animals,\n",
    "    2 for Biography & Autobiography,\n",
    "    3 for Feminism,\n",
    "    4 for Food & Drinks,\n",
    "    5 for History,\n",
    "    6 for Religion & Spirituality,\n",
    "    7 for Science,\n",
    "    8 for Self Help,\n",
    "    9 for Travel or\n",
    "    10 for Writing.  \n",
    "    \n",
    "    \"\"\")\n",
    "    \n",
    "    return input2"
   ]
  },
  {
   "cell_type": "code",
   "execution_count": 5,
   "id": "d39c6bd9",
   "metadata": {},
   "outputs": [],
   "source": [
    "def fiction():\n",
    "    input3 = input(\"\"\" Which kind of fictional book do you want to read? Type:\n",
    "    \n",
    "    1 for Childrens,\n",
    "    2 for Christian Fiction,\n",
    "    3 for Classics,\n",
    "    4 for Comics, Graphic Novels & Manga,\n",
    "    5 for Erotica,\n",
    "    6 for Fantasy,\n",
    "    7 for Historical,\n",
    "    8 for Horror,\n",
    "    9 for LGBT,\n",
    "    10 for Mystery,\n",
    "    11 for Romance,\n",
    "    12 for Science Fiction,\n",
    "    13 for Thriller & Suspense or \n",
    "    14 for Young Adult.   \n",
    "    \n",
    "    \"\"\")\n",
    "    \n",
    "    if int(input3) not in [1, 2, 3, 4, 5, 6, 7, 8, 9, 10, 11, 12, 13, 14]:\n",
    "        input3 = input(\"\"\" Please, type:\n",
    "    \n",
    "    1 for Childrens,\n",
    "    2 for Christian Fiction,\n",
    "    3 for Classics,\n",
    "    4 for Comics, Graphic Novels & Manga,\n",
    "    5 for Erotica,\n",
    "    6 for Fantasy,\n",
    "    7 for Historical,\n",
    "    8 for Horror,\n",
    "    9 for LGBT,\n",
    "    10 for Mystery,\n",
    "    11 for Romance,\n",
    "    12 for Science Fiction,\n",
    "    13 for Thriller & Suspense or \n",
    "    14 for Young Adult.   \n",
    "    \n",
    "    \"\"\")\n",
    "    \n",
    "    return input3"
   ]
  },
  {
   "cell_type": "code",
   "execution_count": 6,
   "id": "2648fb19",
   "metadata": {},
   "outputs": [],
   "source": [
    "def birthplace():\n",
    "    input4 = input(\"\"\" Please, choose the birthplace of the author. Type:\n",
    "    \n",
    "    1 for Africa\n",
    "    2 for Asia\n",
    "    3 for Europe\n",
    "    4 for Latin America\n",
    "    5 for Oceania or\n",
    "    6 for USA & Canada.\n",
    "    \n",
    "If you don't want to choose the birthplace of the author, type '0'.   \n",
    "\n",
    "\"\"\")\n",
    "    \n",
    "    if int(input4) not in [0, 1, 2, 3, 4, 5, 6]:\n",
    "        input4 = input(\"\"\" Please, choose the birthplace of the author. Type:\n",
    "   \n",
    "    1 for Africa\n",
    "    2 for Asia\n",
    "    3 for Europe\n",
    "    4 for Latin America\n",
    "    5 for Oceania or\n",
    "    6 for USA & Canada.\n",
    "\n",
    "If you don't want to choose the birthplace of the author, type '0'.    \n",
    "\n",
    "\"\"\")\n",
    "    \n",
    "    else:\n",
    "        return input4\n",
    "        "
   ]
  },
  {
   "cell_type": "code",
   "execution_count": 7,
   "id": "e2984ebf",
   "metadata": {},
   "outputs": [],
   "source": [
    "def period():\n",
    "    input5 = input(\"\"\"Please, choose the period of the first publication of the book. Type: \n",
    "    \n",
    "    1 for the 20th century or before\n",
    "    2 for the 21st century.\n",
    "    \n",
    "If you don't want to choose the period of the publication, type '0'.    \n",
    "\n",
    "\"\"\")\n",
    "    \n",
    "    if int(input5) not in [0, 1, 2]:\n",
    "        input5 = input(\"\"\"Please, choose the period of the first publication of the book. Type: \n",
    "    \n",
    "    1 for the 20th century or before \n",
    "    2 for the 21st century.\n",
    "    \n",
    "If you don't want to choose the period of the publication, type '0'.    \n",
    "\n",
    "\"\"\")\n",
    "        \n",
    "    else:\n",
    "        return input5"
   ]
  },
  {
   "cell_type": "code",
   "execution_count": 8,
   "id": "375a4a1a",
   "metadata": {},
   "outputs": [],
   "source": [
    "def system():\n",
    "    input1 = fiction_nonfiction()\n",
    "    if input1 == 'nf':\n",
    "        input2 = int(non_fiction())\n",
    "        genre = df_nonfiction.loc[df_nonfiction['genre_number'] == input2]\n",
    "        book_recommendation = genre.sample(n=1)\n",
    "        print(\"We recommend you the book '{book}' by the author '{author}'.\".format(book=book_recommendation['book_title'].values[0], author=book_recommendation['author_name'].values[0]))\n",
    "        print(\"The book has '{pages}' pages and was first published in '{year}'.\".format(pages=book_recommendation['pages'].values[0], year=book_recommendation['year_publication'].values[0]))\n",
    "    else:\n",
    "        input3 = int(fiction())\n",
    "        genre = df_fiction.loc[df_fiction['genre_number'] == input3]\n",
    "        if int(input3) in [6, 11, 14]:\n",
    "            input4 = birthplace()\n",
    "            if input4 in ['1','2','3','4','5','6']:\n",
    "                birth = genre.loc[genre['birthplace_number'] == input4]\n",
    "                book_recommendation = birth.sample(n=1)\n",
    "                print(\"We recommend you the book '{book}' by the author '{author}'.\".format(book=book_recommendation['book_title'].values[0], author=book_recommendation['author_name'].values[0]))\n",
    "                print(\"The book has '{pages}' pages and was first published in '{year}'.\".format(pages=book_recommendation['pages'].values[0], year=book_recommendation['year_publication'].values[0]))\n",
    "            else:\n",
    "                birth = genre\n",
    "                input5 = int(period())\n",
    "                date = birth.loc[birth['period_publication_number'] == input5]\n",
    "                book_recommendation = date.sample(n=1)\n",
    "                print(\"We recommend you the book '{book}' by the author '{author}'.\".format(book=book_recommendation['book_title'].values[0], author=book_recommendation['author_name'].values[0]))\n",
    "                print(\"The book has '{pages}' pages and was first published in '{year}'.\".format(pages=book_recommendation['pages'].values[0], year=book_recommendation['year_publication'].values[0]))\n",
    "        else:\n",
    "            book_recommendation = genre.sample(n=1)\n",
    "            print(\"We recommend you the book '{book}' by the author '{author}'.\".format(book=book_recommendation['book_title'].values[0], author=book_recommendation['author_name'].values[0]))\n",
    "            print(\"The book has '{pages}' pages and was first published in '{year}'.\".format(pages=book_recommendation['pages'].values[0], year=book_recommendation['year_publication'].values[0]))\n",
    "    \n",
    "    run_again = input(\"Do you want another recommendation? (y/n)  \")\n",
    "\n",
    "    while run_again.lower() == 'y':\n",
    "        system()  \n",
    "        run_again = input(\"Do you want another recommendation? (y/n)  \")\n"
   ]
  },
  {
   "cell_type": "code",
   "execution_count": 10,
   "id": "6df8a6b2",
   "metadata": {},
   "outputs": [
    {
     "name": "stdout",
     "output_type": "stream",
     "text": [
      "Do you want to read a fictional or a nonfictional book?\n",
      "Type 'f' for fictional or 'nf' for nonfictional. \n",
      "\n",
      "f\n",
      " Which kind of fictional book do you want to read? Type:\n",
      "    \n",
      "    1 for Childrens,\n",
      "    2 for Christian Fiction,\n",
      "    3 for Classics,\n",
      "    4 for Comics, Graphic Novels & Manga,\n",
      "    5 for Erotica,\n",
      "    6 for Fantasy,\n",
      "    7 for Historical,\n",
      "    8 for Horror,\n",
      "    9 for LGBT,\n",
      "    10 for Mystery,\n",
      "    11 for Romance,\n",
      "    12 for Science Fiction,\n",
      "    13 for Thriller & Suspense or \n",
      "    14 for Young Adult.   \n",
      "    \n",
      "    1\n",
      "We recommend you the book 'Snow' by the author 'Cynthia Rylant'.\n",
      "The book has '40' pages and was first published in '2008'.\n",
      "Do you want another recommendation? (y/n)  n\n"
     ]
    }
   ],
   "source": [
    "system()"
   ]
  },
  {
   "cell_type": "code",
   "execution_count": 11,
   "id": "bdb7fd96",
   "metadata": {},
   "outputs": [
    {
     "name": "stdout",
     "output_type": "stream",
     "text": [
      "Collecting anvil-uplink\n",
      "  Downloading anvil_uplink-0.4.2-py2.py3-none-any.whl (90 kB)\n",
      "\u001b[2K     \u001b[38;2;114;156;31m━━━━━━━━━━━━━━━━━━━━━━━━━━━━━━━━━━━━━━━━\u001b[0m \u001b[32m90.1/90.1 kB\u001b[0m \u001b[31m2.9 MB/s\u001b[0m eta \u001b[36m0:00:00\u001b[0m\n",
      "\u001b[?25hRequirement already satisfied: future in /Users/ericaNNa/opt/anaconda3/lib/python3.9/site-packages (from anvil-uplink) (0.18.2)\n",
      "Requirement already satisfied: six in /Users/ericaNNa/opt/anaconda3/lib/python3.9/site-packages (from anvil-uplink) (1.16.0)\n",
      "Collecting argparse\n",
      "  Downloading argparse-1.4.0-py2.py3-none-any.whl (23 kB)\n",
      "Collecting ws4py\n",
      "  Downloading ws4py-0.5.1.tar.gz (51 kB)\n",
      "\u001b[2K     \u001b[38;2;114;156;31m━━━━━━━━━━━━━━━━━━━━━━━━━━━━━━━━━━━━━━━━\u001b[0m \u001b[32m51.4/51.4 kB\u001b[0m \u001b[31m4.8 MB/s\u001b[0m eta \u001b[36m0:00:00\u001b[0m\n",
      "\u001b[?25h  Preparing metadata (setup.py) ... \u001b[?25ldone\n",
      "\u001b[?25hBuilding wheels for collected packages: ws4py\n",
      "  Building wheel for ws4py (setup.py) ... \u001b[?25ldone\n",
      "\u001b[?25h  Created wheel for ws4py: filename=ws4py-0.5.1-py3-none-any.whl size=45228 sha256=5c54b2674313316fc72c18cc55cb1ef4798d4aabfbb9f14e4766bd84c55f2b66\n",
      "  Stored in directory: /Users/ericaNNa/Library/Caches/pip/wheels/e8/9d/fd/0a594a1bc8d493935d319ac40d64d79f5b4117ef4d37b1b678\n",
      "Successfully built ws4py\n",
      "Installing collected packages: ws4py, argparse, anvil-uplink\n",
      "Successfully installed anvil-uplink-0.4.2 argparse-1.4.0 ws4py-0.5.1\n",
      "Note: you may need to restart the kernel to use updated packages.\n"
     ]
    }
   ],
   "source": [
    "pip install anvil-uplink"
   ]
  },
  {
   "cell_type": "code",
   "execution_count": 1,
   "id": "1a63e01a",
   "metadata": {},
   "outputs": [
    {
     "name": "stdout",
     "output_type": "stream",
     "text": [
      "Connecting to wss://anvil.works/uplink\n",
      "Anvil websocket open\n",
      "Connected to \"Default Environment\" as SERVER\n"
     ]
    }
   ],
   "source": [
    "import anvil.server\n",
    "\n",
    "anvil.server.connect(\"server_TQCC5U7WQBRQVR5UKWUUWEB7-PCU25HP5XL3JPOJR\")"
   ]
  },
  {
   "cell_type": "code",
   "execution_count": 2,
   "id": "77530f34",
   "metadata": {},
   "outputs": [],
   "source": [
    "@anvil.server.callable\n",
    "def non_fiction_rec(selected_value):\n",
    "    import pandas as pd\n",
    "    df_nonfiction = pd.read_csv('df2_final5.csv')\n",
    "    genre = df_nonfiction.loc[df_nonfiction['genre_1'] == selected_value]\n",
    "    book_recommendation = genre.sample(n=1)\n",
    "    title = book_recommendation['book_title'].item()\n",
    "    author = book_recommendation['author_name'].item()\n",
    "    date = book_recommendation['year_publication'].item()\n",
    "    return title, author, date\n",
    " "
   ]
  },
  {
   "cell_type": "code",
   "execution_count": null,
   "id": "09b8eb7f",
   "metadata": {},
   "outputs": [],
   "source": []
  }
 ],
 "metadata": {
  "kernelspec": {
   "display_name": "Python 3 (ipykernel)",
   "language": "python",
   "name": "python3"
  },
  "language_info": {
   "codemirror_mode": {
    "name": "ipython",
    "version": 3
   },
   "file_extension": ".py",
   "mimetype": "text/x-python",
   "name": "python",
   "nbconvert_exporter": "python",
   "pygments_lexer": "ipython3",
   "version": "3.9.13"
  }
 },
 "nbformat": 4,
 "nbformat_minor": 5
}
